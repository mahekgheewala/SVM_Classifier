{
  "nbformat": 4,
  "nbformat_minor": 0,
  "metadata": {
    "colab": {
      "provenance": [],
      "authorship_tag": "ABX9TyML2HOe2mVFR93bvC1aUPPg",
      "include_colab_link": true
    },
    "kernelspec": {
      "name": "python3",
      "display_name": "Python 3"
    },
    "language_info": {
      "name": "python"
    }
  },
  "cells": [
    {
      "cell_type": "markdown",
      "metadata": {
        "id": "view-in-github",
        "colab_type": "text"
      },
      "source": [
        "<a href=\"https://colab.research.google.com/github/mahekgheewala/SVM_Classifier/blob/main/SVM_Classifier.ipynb\" target=\"_parent\"><img src=\"https://colab.research.google.com/assets/colab-badge.svg\" alt=\"Open In Colab\"/></a>"
      ]
    },
    {
      "cell_type": "markdown",
      "source": [
        "SVM Classifier:\n",
        "\n",
        "Equation of Hyperplane:\n",
        "\n",
        "y = wx - b\n",
        "here: weight(w) is an array, no. of input features, no. of columns"
      ],
      "metadata": {
        "id": "4ow8DdXuxoLA"
      }
    },
    {
      "cell_type": "markdown",
      "source": [
        "Gradient Descent\n",
        "\n",
        "Gradient Descent is an optimization algorithm used for minimizing the loss function in various machine learning algorithms. It is used for updating the parameters of the learning model.\n",
        "\n",
        "w = w - a*dw\n",
        "\n",
        "b = b - a*db"
      ],
      "metadata": {
        "id": "PvHs0J-Xxwmp"
      }
    },
    {
      "cell_type": "markdown",
      "source": [
        "Learning Rate\n",
        "\n",
        "Learning rate is a tuning parameter in an optimization algorithm that determines the step size at each iteration while moving towards a minimum of a loss function."
      ],
      "metadata": {
        "id": "LMLGDTdPKn2d"
      }
    },
    {
      "cell_type": "code",
      "execution_count": null,
      "metadata": {
        "id": "1PK-E99rxigN"
      },
      "outputs": [],
      "source": [
        "# importing libraries\n",
        "import numpy as np"
      ]
    },
    {
      "cell_type": "markdown",
      "source": [
        "Support Vector Machine CLassifier"
      ],
      "metadata": {
        "id": "RxTp4kJaOfdz"
      }
    },
    {
      "cell_type": "code",
      "source": [
        "class SVM_classifier():\n",
        "\n",
        "  # Initiating the hyperparameters\n",
        "  def __init__(self, learning_rate, no_of_iterations, lambda_parameter ):\n",
        "    self.learning_rate = learning_rate\n",
        "    self.no_of_iterations = no_of_iterations\n",
        "    self.lambda_parameter = lambda_parameter\n",
        "\n",
        "\n",
        "  # Fitting the dataset to SVM Classifier\n",
        "  # x = input features\n",
        "  # y = target variable\n",
        "  def fit(self,X,Y ):\n",
        "    self.m, self.n = X.shape\n",
        "    # m = no. of data points(no. of rows)\n",
        "    # n = no. of input features(no. of columns)\n",
        "\n",
        "    #  initiating the weight and bias values\n",
        "    self.w = np.zeros(self.n)\n",
        "    # here n means no. of collumns(we are creating an array of 0 of n size)\n",
        "    self.b = 0\n",
        "    # bias is a single value\n",
        "    self.X = X\n",
        "    self.Y = Y\n",
        "\n",
        "    # Implementing Gradient Descent algorithm for optimization(finding optimized value)\n",
        "    # here iteration would go through data 1000 times, so we are using for loop\n",
        "    for i in range(self.no_of_iterations):\n",
        "      self.update_weights()\n",
        "\n",
        "\n",
        "  # Function for updating weight and bias value\n",
        "  def update_weights(self):\n",
        "    # label encoding\n",
        "    y_label = np.where(self.Y <=0, -1, 1)\n",
        "    #  Gradients (db,dw)\n",
        "    # in below for loop, index and x_i means: i and j\n",
        "    # one goes through all row and one access single data points\n",
        "    # enumerate() is a Python function that gives you:\n",
        "    # The index (position) of an item\n",
        "    # The value (item itself)-----at the same time when looping through a list.\n",
        "    for index, x_i in enumerate(self.X):\n",
        "      condition = y_label[index] * (np.dot(x_i, self.w)-self.b) >=1\n",
        "\n",
        "      if (condition == True):\n",
        "        dw = 2*self.lambda_parameter * self.w\n",
        "        db = 0\n",
        "\n",
        "      else:\n",
        "        dw = 2* self.lambda_parameter*self.w - np.dot(x_i, y_label[index])\n",
        "        db = y_label[index]\n",
        "\n",
        "\n",
        "#  first we have found values for dw and db, and then we put it in final formula for gradient descent\n",
        "\n",
        "\n",
        "\n",
        "      # building the final gradient descent:\n",
        "      # w = w - a*dw, b = b - a*db\n",
        "      self.w = self.w - self.learning_rate * dw\n",
        "      self.b = self.b - self.learning_rate * db\n",
        "\n",
        "  # Predict the label for given input value---> 1 or 0\n",
        "  def predict(self,X):\n",
        "    output = np.dot(X, self.w) - self.b\n",
        "    # now the value we will get can be anything like +1, +4, +5, etc.\n",
        "    predicted_labels = np.sign(output)\n",
        "    # above, we have converted all 0--->1, no we have to revert this:\n",
        "    # what below line means:\n",
        "    # if it is -1 or less than it, convert it to 0\n",
        "    y_hat = np.where(predicted_labels <=-1, 0, 1)\n",
        "    return y_hat()"
      ],
      "metadata": {
        "id": "CU5K8R5QNJfJ"
      },
      "execution_count": 3,
      "outputs": []
    },
    {
      "cell_type": "code",
      "source": [
        "model = SVM_classifier(learning_rate=0.001, no_of_iterations=1000, lambda_parameter=0.01)\n",
        "# giving the values for these 3 paramters in the above line\n"
      ],
      "metadata": {
        "id": "Jo_Bviq_NxGh"
      },
      "execution_count": null,
      "outputs": []
    },
    {
      "cell_type": "code",
      "source": [
        "# example of for loop mentioned above in update weights\n",
        "my_list = [10,20,30,40,50,60]\n",
        "for i, my_list_i in enumerate(my_list):\n",
        "  print(i, my_list_i)"
      ],
      "metadata": {
        "colab": {
          "base_uri": "https://localhost:8080/"
        },
        "id": "rhJeG7rwYkgr",
        "outputId": "9859deb1-7695-47bf-950d-ba10e839f8ce"
      },
      "execution_count": 2,
      "outputs": [
        {
          "output_type": "stream",
          "name": "stdout",
          "text": [
            "0 10\n",
            "1 20\n",
            "2 30\n",
            "3 40\n",
            "4 50\n",
            "5 60\n"
          ]
        }
      ]
    },
    {
      "cell_type": "code",
      "source": [],
      "metadata": {
        "id": "wVcOgtoWZXMM"
      },
      "execution_count": null,
      "outputs": []
    }
  ]
}